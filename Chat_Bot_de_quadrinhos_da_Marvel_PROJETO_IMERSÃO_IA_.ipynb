{
  "nbformat": 4,
  "nbformat_minor": 0,
  "metadata": {
    "colab": {
      "provenance": [],
      "authorship_tag": "ABX9TyOaswwUttU0oBwUKTRP+xam",
      "include_colab_link": true
    },
    "kernelspec": {
      "name": "python3",
      "display_name": "Python 3"
    },
    "language_info": {
      "name": "python"
    }
  },
  "cells": [
    {
      "cell_type": "markdown",
      "metadata": {
        "id": "view-in-github",
        "colab_type": "text"
      },
      "source": [
        "<a href=\"https://colab.research.google.com/github/TINHOunity/Projeto_da_Imersao-Aula-04/blob/main/Chat_Bot_de_quadrinhos_da_Marvel_PROJETO_IMERS%C3%83O_IA_.ipynb\" target=\"_parent\"><img src=\"https://colab.research.google.com/assets/colab-badge.svg\" alt=\"Open In Colab\"/></a>"
      ]
    },
    {
      "cell_type": "code",
      "source": [
        "!pip install -q -U google-generativeai"
      ],
      "metadata": {
        "id": "6FDYMnKlTNMC"
      },
      "execution_count": 4,
      "outputs": []
    },
    {
      "cell_type": "code",
      "source": [
        "import google.generativeai as genai\n",
        "from google.colab import userdata\n",
        "api_key = userdata.get (\"SECRET_KEY\")\n",
        "genai.configure(api_key=api_key)"
      ],
      "metadata": {
        "id": "zPl3dYBiTWoy"
      },
      "execution_count": 2,
      "outputs": []
    },
    {
      "cell_type": "code",
      "source": [
        "import random\n",
        "\n",
        "# Defina a lista de personagens da marvel.\n",
        "marvel_characters = [\n",
        "    \"Homem de Ferro\",\n",
        "    \"Capitão América\",\n",
        "    \"Thor\",\n",
        "    \"Hulk\",\n",
        "    \"Viúva Negra\",\n",
        "    \"Homem Aranha\",\n",
        "    \"Wolverine\",\n",
        "    \"Doutor Estranho\",\n",
        "    \"Capitã Marvel\",\n",
        "    \"Pantera Negra\"\n",
        "]\n",
        "\n",
        "# Defina as funções do chatbot.\n",
        "def greet():\n",
        "    \"\"\"Greets the user and introduces the chatbot.\"\"\"\n",
        "    print(\"Bem-vindo ao Chatbot de Quadrinhos da Marvel!\")\n",
        "    print(\"Estou aqui para falar sobre seus personagens favoritos da Marvel.\")\n",
        "\n",
        "def get_character_info(character_name):\n",
        "    \"\"\"Returns information about a Marvel character.\"\"\"\n",
        "    for character in marvel_characters:\n",
        "        if character.lower() == character_name.lower():\n",
        "            return character\n",
        "    return None\n",
        "\n",
        "def describe_character(character_name):\n",
        "    \"\"\"Describes a Marvel character.\"\"\"\n",
        "    character_info = get_character_info(character_name)\n",
        "    if character_info:\n",
        "        print(f\"{character_info} é um dos personagens mais populares da Marvel.\")\n",
        "    else:\n",
        "        print(f\"Não consegui encontrar informações sobre {character_name}.\")\n",
        "\n",
        "def recommend_comics(character_name):\n",
        "    \"\"\"Recommends Marvel comics based on a character.\"\"\"\n",
        "    character_info = get_character_info(character_name)\n",
        "    if character_info:\n",
        "        recommended_comics = [\n",
        "            \"Homem de Ferro #1 (1968)\",\n",
        "            \"Capitão América #1 (1964)\",\n",
        "            \"Thor #1 (1963)\",\n",
        "            \"Hulk #1 (1962)\",\n",
        "            \"Viúva Negra #1 (1964)\",\n",
        "            \"Homem Aranha #1 (1963)\",\n",
        "            \"Wolverine #1 (1982)\",\n",
        "            \"Doutor Estranho #1 (1963)\",\n",
        "            \"Capitã Marvel #1 (2016)\",\n",
        "            \"Pantera Negra #1 (1966)\"\n",
        "        ]\n",
        "        print(f\"Aqui estão algumas HQs recomendadas com {character_name}:\")\n",
        "        for comic in recommended_comics[:3]:\n",
        "            print(f\"- {comic}\")\n",
        "    else:\n",
        "        print(f\"Não consegui encontrar HQs relacionadas a {character_name}.\")\n",
        "\n",
        "def answer_questions(question):\n",
        "    \"\"\"Answers questions about Marvel comics.\"\"\"\n",
        "    if \"personagem\" in question.lower():\n",
        "        character_name = question.split(\"personagem\")[1].strip()\n",
        "        describe_character(character_name)\n",
        "    elif \"recomendar\" in question.lower():\n",
        "        character_name = question.split(\"recomendar\")[1].strip()\n",
        "        recommend_comics(character_name)\n",
        "    else:\n",
        "        print(f\"Ainda estou aprendendo, então não posso responder a essa pergunta ainda.\")\n",
        "\n",
        "def end_conversation():\n",
        "    \"\"\"Ends the conversation and bids farewell to the user.\"\"\"\n",
        "    print(\"Obrigado por conversar comigo sobre quadrinhos da Marvel!\")\n",
        "    print(\"Volte em breve para mais bate-papo sobre super-heróis!\")\n",
        "\n",
        "# Loop do chatbot.\n",
        "greet()\n",
        "\n",
        "while True:\n",
        "    user_input = input(\"> \").lower()\n",
        "\n",
        "    if user_input == \"tchau\" or user_input == \"sair\":\n",
        "        end_conversation()\n",
        "        break\n",
        "    else:\n",
        "        answer_questions(user_input)\n"
      ],
      "metadata": {
        "colab": {
          "base_uri": "https://localhost:8080/"
        },
        "id": "aCkMJM7hTIFy",
        "outputId": "eb788696-8bd0-490b-9a67-ab1ab6f0d14e",
        "collapsed": true
      },
      "execution_count": 5,
      "outputs": [
        {
          "output_type": "stream",
          "name": "stdout",
          "text": [
            "Bem-vindo ao Chatbot de Quadrinhos da Marvel!\n",
            "Estou aqui para falar sobre seus personagens favoritos da Marvel.\n",
            "> sair\n",
            "Obrigado por conversar comigo sobre quadrinhos da Marvel!\n",
            "Volte em breve para mais bate-papo sobre super-heróis!\n"
          ]
        }
      ]
    }
  ]
}